{
 "cells": [
  {
   "cell_type": "code",
   "execution_count": 5,
   "id": "60fdfef8-2c94-409d-9c9e-9fa50b2cceed",
   "metadata": {},
   "outputs": [],
   "source": [
    "import pandas as pd \n",
    "from sklearn.model_selection import train_test_split\n",
    "import os\n",
    "\n",
    "from preprocessing_wrapper import load_preprocessed_data\n",
    "\n",
    "data = load_preprocessed_data(pca=False)\n",
    "\n",
    "X = data.drop(columns=['Price'])\n",
    "Y = data[['Price']]\n",
    "\n",
    "stratified_price = pd.qcut(Y['Price'], 10)\n",
    "X['strat_price'] = stratified_price\n",
    "\n",
    "# x_train, x_test, y_train, y_test = train_test_split(X,Y,test_size=0.2)\n",
    "x_train, x_test, y_train, y_test = train_test_split(X, Y, stratify=X['strat_price'], test_size=0.2)\n",
    "x_train = x_train.drop(columns=[\"strat_price\"])\n",
    "x_test = x_test.drop(columns=[\"strat_price\"])\n",
    "\n",
    "x_train['Price'] = y_train['Price']\n",
    "x_test['Price'] = y_test['Price']\n",
    "\n",
    "x_train.to_csv('Data/Stratified_train_set.csv')\n",
    "x_test.to_csv('Data/Stratified_test_set.csv')"
   ]
  },
  {
   "cell_type": "code",
   "execution_count": null,
   "id": "9f4ec343-3556-445e-aa77-144eaadc7e60",
   "metadata": {},
   "outputs": [],
   "source": []
  }
 ],
 "metadata": {
  "kernelspec": {
   "display_name": "Python 3 (ipykernel)",
   "language": "python",
   "name": "python3"
  },
  "language_info": {
   "codemirror_mode": {
    "name": "ipython",
    "version": 3
   },
   "file_extension": ".py",
   "mimetype": "text/x-python",
   "name": "python",
   "nbconvert_exporter": "python",
   "pygments_lexer": "ipython3",
   "version": "3.9.10"
  }
 },
 "nbformat": 4,
 "nbformat_minor": 5
}
