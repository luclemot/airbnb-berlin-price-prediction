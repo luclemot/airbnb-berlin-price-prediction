{
 "cells": [
  {
   "cell_type": "code",
   "execution_count": 1,
   "metadata": {},
   "outputs": [
    {
     "ename": "ModuleNotFoundError",
     "evalue": "No module named 'plotly'",
     "output_type": "error",
     "traceback": [
      "\u001b[0;31m------------------------------------------------------------------------\u001b[0m",
      "\u001b[0;31mModuleNotFoundError\u001b[0m                    Traceback (most recent call last)",
      "\u001b[0;32m<ipython-input-1-a65d07c38fb8>\u001b[0m in \u001b[0;36m<module>\u001b[0;34m\u001b[0m\n\u001b[0;32m----> 1\u001b[0;31m \u001b[0;32mimport\u001b[0m \u001b[0mplotly\u001b[0m\u001b[0;34m.\u001b[0m\u001b[0mio\u001b[0m \u001b[0;32mas\u001b[0m \u001b[0mpio\u001b[0m\u001b[0;34m\u001b[0m\u001b[0;34m\u001b[0m\u001b[0m\n\u001b[0m\u001b[1;32m      2\u001b[0m \u001b[0mpio\u001b[0m\u001b[0;34m.\u001b[0m\u001b[0mrenderers\u001b[0m\u001b[0;34m.\u001b[0m\u001b[0mdefault\u001b[0m \u001b[0;34m=\u001b[0m \u001b[0;34m\"notebook+pdf\"\u001b[0m  \u001b[0;31m# Renderer for Notebook and HTML exports + Renderer for PDF exports\u001b[0m\u001b[0;34m\u001b[0m\u001b[0;34m\u001b[0m\u001b[0m\n",
      "\u001b[0;31mModuleNotFoundError\u001b[0m: No module named 'plotly'"
     ]
    }
   ],
   "source": [
    "import plotly.io as pio\n",
    "pio.renderers.default = \"notebook+pdf\"  # Renderer for Notebook and HTML exports + Renderer for PDF exports"
   ]
  },
  {
   "cell_type": "markdown",
   "metadata": {},
   "source": [
    "# Test"
   ]
  },
  {
   "cell_type": "code",
   "execution_count": null,
   "metadata": {},
   "outputs": [],
   "source": [
    "import io\n",
    "import pandas as pd\n",
    "import datetime\n",
    "import numpy as np\n",
    "import os\n",
    "\n",
    "# load dataset\n",
    "data_path = \"/Users/lucie/Desktop/Cours mention/IA/Projet ML/airbnb-berlin-price-prediction-ml-2223/Data/train_airbnb_berlin.csv\"\n",
    "df = pd.read_csv(data_path)\n",
    "\n",
    "# clean dataset\n",
    "def clean_df(df):\n",
    "    to_drop = ['Listing Name', 'Host Name', 'City', 'Country Code', 'Country', 'Square Feet']\n",
    "    df = df.drop(to_drop, axis = 1)\n",
    "    df.columns = df.columns.str.replace(' ','_')\n",
    "    df = df.replace('*', np.nan)\n",
    "    df = df.replace('%', '', regex = True)\n",
    "\n",
    "    # set data_type\n",
    "    data_type = {'Listing_ID' : 'float', 'Host_ID' : 'float', 'Host_Since' : 'datetime64', 'Host_Response_Time' : 'string',\n",
    "        'Host_Response_Rate' : 'float', 'Is_Superhost' : 'bool', 'neighbourhood' : 'str',\n",
    "        'Neighborhood_Group' : 'str', 'Postal_Code' : 'float', 'Latitude' : 'float', 'Longitude' : 'float',\n",
    "        'Is_Exact_Location' : 'bool', 'Property_Type' : 'str', 'Room_Type' : 'str', 'Accomodates' : 'float',\n",
    "        'Bathrooms' : 'float', 'Bedrooms' : 'float', 'Beds' : 'float', 'Guests_Included' : 'float', 'Min_Nights' : 'float',\n",
    "        'Reviews' : 'float', 'First_Review' :'datetime64', 'Last_Review' : 'datetime64', 'Overall_Rating' : 'float',\n",
    "        'Accuracy_Rating' : 'float', 'Cleanliness_Rating' : 'float', 'Checkin_Rating' : 'float',\n",
    "        'Communication_Rating' : 'float', 'Location_Rating' : 'float', 'Value_Rating' : 'float',\n",
    "        'Instant_Bookable' : 'bool', 'Business_Travel_Ready' : 'bool', 'Price' : 'float'}\n",
    "\n",
    "    df = df.astype(data_type)\n",
    "    return df\n",
    "\n",
    "df = clean_df(df)\n",
    "\n",
    "# stats on datas\n",
    "def print_stats(df): \n",
    "    stats_df = pd.DataFrame({\n",
    "        \"min\":df.min(numeric_only = True), \n",
    "        \"max\":df.max(numeric_only = True), \n",
    "        \"mean\":df.mean(numeric_only = True),\n",
    "        \"std\":df.std(numeric_only = True),\n",
    "        \"median\":df.median(numeric_only = True),\n",
    "        \"nunique\":df.nunique(), \n",
    "        \"count_na\": df.isna().sum()    \n",
    "    })\n",
    "    return stats_df\n",
    "                             \n",
    "print_stats(df)"
   ]
  },
  {
   "cell_type": "markdown",
   "metadata": {},
   "source": [
    "# PCA"
   ]
  },
  {
   "cell_type": "code",
   "execution_count": null,
   "metadata": {},
   "outputs": [],
   "source": [
    "from sklearn.preprocessing import StandardScaler\n",
    "from sklearn.decomposition import PCA\n",
    "from sklearn.preprocessing import scale \n",
    "from sklearn import model_selection\n",
    "from sklearn.decomposition import PCA\n",
    "from sklearn.linear_model import LinearRegression\n",
    "from sklearn.cross_decomposition import PLSRegression, PLSSVD\n",
    "from sklearn.metrics import mean_squared_error\n",
    "import matplotlib.pyplot as plt\n",
    "\n",
    "def airbnb_PCA(df, features, target):\n",
    "    \n",
    "    # A enlever quand on aura clean la data\n",
    "    df2 = df.dropna()\n",
    "    \n",
    "    # Separating out the features\n",
    "    x = df2.loc[:, features].values\n",
    "    # Separating out the target\n",
    "    y = df2.loc[:,target].values\n",
    "    # Standardizing the features\n",
    "    x = StandardScaler().fit_transform(x)\n",
    "    pca = PCA()\n",
    "    principalComponents = pca.fit_transform(x)\n",
    "    principalDf = pd.DataFrame(data = principalComponents\n",
    "    #                           ,columns = ['PC'+str(i) for i in range(1,n+1)]\n",
    "                              )\n",
    "    principalDf.index = df2.index\n",
    "    print(principalDf.shape)\n",
    "    print(df2[target].shape)\n",
    "    finalDf = pd.concat([principalDf, pd.Series(df2[target])], axis = 1)\n",
    "    print(finalDf.shape)\n",
    "    explained_variance = pca.explained_variance_ratio_\n",
    "    print(explained_variance)\n",
    "    \n",
    "    # Plot the cumulative variance to identify optimal n_components\n",
    "    fig, ax = plt.subplots()\n",
    "    xi = np.arange(1, 4, step=1)\n",
    "    y = np.cumsum(pca.explained_variance_ratio_)\n",
    "    plt.ylim(0.0,1.1)\n",
    "    plt.plot(xi, y, marker='o', linestyle='--', color='b')\n",
    "\n",
    "    plt.xlabel('Number of Components')\n",
    "    plt.xticks(np.arange(0, 20, step=50)) #change from 0-based array index to 1-based human-readable label\n",
    "    plt.ylabel('Cumulative variance (%)')\n",
    "    plt.title('The number of components needed to explain variance')\n",
    "\n",
    "    plt.axhline(y=0.95, color='r', linestyle='-')\n",
    "    plt.text(0.5, 0.85, '95% cut-off threshold', color = 'red', fontsize=16)\n",
    "\n",
    "    ax.grid(axis='x')\n",
    "    plt.show()\n",
    "    \n",
    "    # Return PCA fields and target variable.\n",
    "    return(finalDf)"
   ]
  },
  {
   "cell_type": "code",
   "execution_count": null,
   "metadata": {},
   "outputs": [],
   "source": [
    "test = airbnb_PCA(df, ['Accomodates', 'Bathrooms', 'Min_Nights'], 'Price')"
   ]
  },
  {
   "cell_type": "code",
   "execution_count": null,
   "metadata": {},
   "outputs": [],
   "source": [
    "df.dropna().shape"
   ]
  },
  {
   "cell_type": "code",
   "execution_count": null,
   "metadata": {},
   "outputs": [],
   "source": [
    "test"
   ]
  },
  {
   "cell_type": "code",
   "execution_count": null,
   "metadata": {},
   "outputs": [],
   "source": [
    "test[test.isnull().any(axis=1)]"
   ]
  },
  {
   "cell_type": "markdown",
   "metadata": {},
   "source": [
    "# Train / Test / Validation data"
   ]
  },
  {
   "cell_type": "code",
   "execution_count": null,
   "metadata": {},
   "outputs": [],
   "source": [
    "# trucs à faire quand la data sera belle et propre"
   ]
  },
  {
   "cell_type": "code",
   "execution_count": null,
   "metadata": {},
   "outputs": [],
   "source": [
    "from sklearn.model_selection import train_test_split\n",
    "\n",
    "\n",
    "train_set, test_set = train_test_split(test, test_size=0.2, random_state=42)\n",
    "\n",
    "\n",
    "def income_cat_proportions(data):\n",
    "    return data[\"Price\"].value_counts() / len(data)\n",
    "\n",
    "\n",
    "compare_props = pd.DataFrame({\n",
    "    \"Input_dataset\": income_cat_proportions(test),\n",
    "    \"Test_set\": income_cat_proportions(test_set),\n",
    "}).sort_index()\n",
    "compare_props[\"Test set. %error\"] = 100 * compare_props[\"Test_set\"] / compare_props[\"Input_dataset\"] - 100\n",
    "\n",
    "compare_props\n",
    "\n"
   ]
  },
  {
   "cell_type": "code",
   "execution_count": null,
   "metadata": {},
   "outputs": [],
   "source": [
    "strat_train_set, strat_test_set =\\\n",
    "train_test_split(df, test_size=0.2, stratify=df[\"Price\"], random_state=42, shuffle=True)\n",
    "\n",
    "compare_props = pd.DataFrame({\n",
    "    \"Input_dataset\": income_cat_proportions(df),\n",
    "    \"Test_set\": income_cat_proportions(test_set),\n",
    "    \"Stratified\": income_cat_proportions(strat_test_set),\n",
    "}).sort_index()\n",
    "compare_props[\"Test set. %error\"] = 100 * compare_props[\"Test_set\"] / compare_props[\"Input_dataset\"] - 100\n",
    "compare_props[\"Strat. %error\"] = 100 * compare_props[\"Stratified\"] / compare_props[\"Input_dataset\"] - 100\n",
    "\n",
    "compare_props"
   ]
  },
  {
   "cell_type": "code",
   "execution_count": null,
   "metadata": {},
   "outputs": [],
   "source": [
    "# on fait du feature engineering?"
   ]
  }
 ],
 "metadata": {
  "file_extension": ".py",
  "kernelspec": {
   "display_name": "Python 3",
   "language": "python",
   "name": "python3"
  },
  "language_info": {
   "codemirror_mode": {
    "name": "ipython",
    "version": 3
   },
   "file_extension": ".py",
   "mimetype": "text/x-python",
   "name": "python",
   "nbconvert_exporter": "python",
   "pygments_lexer": "ipython3",
   "version": "3.8.2"
  },
  "mimetype": "text/x-python",
  "name": "python",
  "npconvert_exporter": "python",
  "pygments_lexer": "ipython3",
  "toc": {
   "base_numbering": 1,
   "nav_menu": {},
   "number_sections": false,
   "sideBar": true,
   "skip_h1_title": false,
   "title_cell": "Table of Contents",
   "title_sidebar": "Contents",
   "toc_cell": false,
   "toc_position": {},
   "toc_section_display": true,
   "toc_window_display": true
  },
  "version": 3
 },
 "nbformat": 4,
 "nbformat_minor": 2
}
